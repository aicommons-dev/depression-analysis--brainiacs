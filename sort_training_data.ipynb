{
 "cells": [
  {
   "cell_type": "code",
   "execution_count": 18,
   "metadata": {},
   "outputs": [],
   "source": [
    "#code to format the training data\n",
    "file=open(\"raw_data/data.csv\",\"r\")\n",
    "f_data =file.readlines()\n",
    "file.close()\n",
    "loop=1\n",
    "#open file two to write to it\n",
    "f2=open(\"data/train_data.txt\",\"w+\")\n",
    "#iterate and write to the file\n",
    "for line in f_data:\n",
    "    anger    = 0\n",
    "    disgust  = 0\n",
    "    fear     = 0\n",
    "    sadness  = 0\n",
    "    shame    = 0\n",
    "    joy      = 0\n",
    "    guilt    = 0\n",
    "    #set the labels\n",
    "    if line.split('|')[0]==\"anger\"    :anger   = 1\n",
    "    if line.split('|')[0]==\"disgust\"  :disgust = 1\n",
    "    if line.split('|')[0]==\"fear\"     :fear    = 1  \n",
    "    if line.split('|')[0]==\"sadness\"  :sadness = 1\n",
    "    if line.split('|')[0]==\"shame\"    :shame   = 1\n",
    "    if line.split('|')[0]==\"joy\"      :joy     = 1     \n",
    "    if line.split('|')[0]==\"guilt\"    :guilt   = 1 \n",
    "    #write data and labels to the file\n",
    "    try:\n",
    "        f2.write( \"\\n\" + line.split('|')[1]  +  \"|\"  + str(anger)  + \"|\" + str(disgust) + \"|\" + str(fear) + \"|\" + str(sadness) + \"|\" + str(shame) + \"|\" + str(joy) + \"|\" + str(guilt) )\n",
    "        loop=loop+1\n",
    "    except:\n",
    "          print(\"line: \"+str(loop)+\" \"+ sys.exc_info()[0])\n",
    "        \n",
    "f2.close()#close file after writing to it\n"
   ]
  },
  {
   "cell_type": "code",
   "execution_count": 15,
   "metadata": {},
   "outputs": [
    {
     "data": {
      "text/plain": [
       "'shame|Arguing with a friend over politics. She was more informed on the issues and made me feel very ashamed of my political ignorance.|||||||||\\n'"
      ]
     },
     "execution_count": 15,
     "metadata": {},
     "output_type": "execute_result"
    }
   ],
   "source": [
    "line"
   ]
  }
 ],
 "metadata": {
  "kernelspec": {
   "display_name": "Python 3",
   "language": "python",
   "name": "python3"
  },
  "language_info": {
   "codemirror_mode": {
    "name": "ipython",
    "version": 3
   },
   "file_extension": ".py",
   "mimetype": "text/x-python",
   "name": "python",
   "nbconvert_exporter": "python",
   "pygments_lexer": "ipython3",
   "version": "3.7.1"
  }
 },
 "nbformat": 4,
 "nbformat_minor": 2
}
